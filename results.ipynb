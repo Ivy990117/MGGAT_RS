{
 "cells": [
  {
   "cell_type": "code",
   "execution_count": 1,
   "id": "2d475119",
   "metadata": {},
   "outputs": [],
   "source": [
    "import os\n",
    "\n",
    "import pandas as pd"
   ]
  },
  {
   "cell_type": "code",
   "execution_count": 2,
   "id": "64b132c7",
   "metadata": {},
   "outputs": [
    {
     "name": "stdout",
     "output_type": "stream",
     "text": [
      "statistic          mean                                              \\\n",
      "dataset          Douban  Flixster MovieLens100K        ON        PA   \n",
      "metric model                                                          \n",
      "rmse   GATSVD  0.725963  0.873544      0.890103  1.250070  1.304704   \n",
      "       MGCNN        NaN       NaN           NaN  1.373049  1.439414   \n",
      "       SVD          NaN       NaN           NaN  1.278917  1.327553   \n",
      "       SVDpp        NaN       NaN           NaN  1.283709  1.339162   \n",
      "\n",
      "statistic                      sem                                    \\\n",
      "dataset       YahooMusic    Douban  Flixster MovieLens100K        ON   \n",
      "metric model                                                           \n",
      "rmse   GATSVD  18.853432  0.000158  0.000504      0.000154  0.000096   \n",
      "       MGCNN         NaN       NaN       NaN           NaN  0.000088   \n",
      "       SVD           NaN       NaN       NaN           NaN  0.000092   \n",
      "       SVDpp         NaN       NaN       NaN           NaN  0.000090   \n",
      "\n",
      "statistic                           \n",
      "dataset              PA YahooMusic  \n",
      "metric model                        \n",
      "rmse   GATSVD  0.000153   0.020381  \n",
      "       MGCNN   0.000137        NaN  \n",
      "       SVD     0.000150        NaN  \n",
      "       SVDpp   0.000144        NaN  \n"
     ]
    }
   ],
   "source": [
    "def get_metrics(path='data/results/metrics'):\n",
    "    results = []\n",
    "    for f in os.listdir(path):\n",
    "        if f.startswith('.'):\n",
    "            continue\n",
    "        if f.endswith('.csv'):\n",
    "            model, dataset = f[:-4].split('_')\n",
    "            df = pd.read_csv('{}/{}'.format(path,  f))\n",
    "            df['model'] = model\n",
    "            df['dataset'] = dataset\n",
    "            results.append(df)\n",
    "    results = pd.concat(results)\n",
    "    results = results.groupby(['model', 'dataset']).agg(['mean', 'sem'])\n",
    "    results.columns.set_names(['metric', 'statistic'], inplace=True)\n",
    "    results = results.stack(['metric', 'statistic'])\n",
    "    results = results.unstack(['statistic', 'dataset', 'model']).stack('model')\n",
    "    return results\n",
    "\n",
    "def get_long_metrics(path='data/results/metrics'):\n",
    "    results = []\n",
    "    for f in os.listdir(path):\n",
    "        if f.startswith('.'):\n",
    "            continue\n",
    "        if f.endswith('.csv'):\n",
    "            model, dataset = f[:-4].split('_')\n",
    "            df = pd.read_csv('{}/{}'.format(path,  f))\n",
    "            df.columns.name = 'metric'\n",
    "            df = df.stack()\n",
    "            df.name = 'value'\n",
    "            df = df.reset_index()\n",
    "            df['model'] = model\n",
    "            df['dataset'] = dataset\n",
    "            results.append(df)\n",
    "    return pd.concat(results, ignore_index=True)\n",
    "\n",
    "\n",
    "if __name__ == '__main__':\n",
    "    print(get_metrics())\n",
    "\n"
   ]
  },
  {
   "cell_type": "code",
   "execution_count": null,
   "id": "c9403f34",
   "metadata": {},
   "outputs": [],
   "source": []
  }
 ],
 "metadata": {
  "kernelspec": {
   "display_name": "Python 3",
   "language": "python",
   "name": "python3"
  },
  "language_info": {
   "codemirror_mode": {
    "name": "ipython",
    "version": 3
   },
   "file_extension": ".py",
   "mimetype": "text/x-python",
   "name": "python",
   "nbconvert_exporter": "python",
   "pygments_lexer": "ipython3",
   "version": "3.8.5"
  }
 },
 "nbformat": 4,
 "nbformat_minor": 5
}
